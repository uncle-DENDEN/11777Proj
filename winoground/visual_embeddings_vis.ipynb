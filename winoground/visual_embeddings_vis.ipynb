{
 "cells": [
  {
   "cell_type": "code",
   "execution_count": null,
   "metadata": {},
   "outputs": [],
   "source": [
    "from datautils import get_loader\n",
    "import torch\n",
    "import torch.nn as nn\n",
    "from torchvision.models import resnet18, ResNet18_Weights\n",
    "from sklearn.manifold import TSNE\n",
    "import numpy as np\n",
    "import pandas as pd\n",
    "import seaborn as sns"
   ]
  },
  {
   "cell_type": "code",
   "execution_count": null,
   "metadata": {},
   "outputs": [],
   "source": [
    "_device = torch.device(\"cuda\" if torch.cuda.is_available() else \"cpu\")"
   ]
  },
  {
   "cell_type": "code",
   "execution_count": null,
   "metadata": {},
   "outputs": [],
   "source": [
    "# param\n",
    "height = 224\n",
    "width = 224\n",
    "batch_size = 16\n",
    "num_workers = 0\n",
    "pin_memory = True\n",
    "shuffle = True\n",
    "drop_last = True\n",
    "perplexity = 30"
   ]
  },
  {
   "cell_type": "code",
   "execution_count": null,
   "metadata": {},
   "outputs": [],
   "source": [
    "# models\n",
    "model = resnet18(weights=ResNet18_Weights.IMAGENET1K_V1)\n",
    "del model._modules['fc']\n",
    "encoder = nn.Sequential(*list(model._modules.values()))\n",
    "encoder.to(_device)\n",
    "loader = get_loader(height, width, batch_size, num_workers, \n",
    "                    pin_memory=pin_memory, shuffle=shuffle, drop_last=drop_last)"
   ]
  },
  {
   "cell_type": "code",
   "execution_count": null,
   "metadata": {},
   "outputs": [],
   "source": [
    "# get embeddings\n",
    "e1s, e2s = [], []\n",
    "c1s, c2s = [], []\n",
    "tags, sc_tags, co_tags = [], [], []\n",
    "for idx, (i1, i2, c1, c2, tag, sc_tag, co_tag) in enumerate(loader):\n",
    "    # sent to gpu\n",
    "    i1 = i1.to(_device)\n",
    "    i2 = i2.to(_device)\n",
    "    # record embeddings\n",
    "    e1s.append(encoder(i1).squeeze().cpu().numpy())\n",
    "    e2s.append(encoder(i2).squeeze().cpu().numpy())\n",
    "    # record tags and captions\n",
    "    c1s += c1\n",
    "    c2s += c2\n",
    "    tags += tag\n",
    "    sc_tags += sc_tag\n",
    "    co_tags += co_tag\n",
    "\n",
    "e1s = np.concatenate(e1s, 0)\n",
    "e2s = np.concatenate(e2s, 0)"
   ]
  },
  {
   "cell_type": "code",
   "execution_count": null,
   "metadata": {},
   "outputs": [],
   "source": [
    "def cosine_similarity(V1, V2):\n",
    "    U1 = V1 / np.linalg.norm(V1, axis=1)\n",
    "    U2 = V2 / np.linalg.norm(V2, axis=1)\n",
    "    distance = np.diag(np.diag(U1@U2.T))\n",
    "    return np.clip(distance, -1, 1)"
   ]
  },
  {
   "cell_type": "code",
   "execution_count": null,
   "metadata": {},
   "outputs": [],
   "source": [
    "D = cosine_similarity(e1s, e2s)\n",
    "df = pd.DataFrame({'dist': D, 'secondary_tags': sc_tags, 'collapsed_tags': co_tags})"
   ]
  },
  {
   "cell_type": "code",
   "execution_count": null,
   "metadata": {},
   "outputs": [],
   "source": [
    "sns.boxplot(data=df, x='secondary_tags', y='dist', hue='collapsed_tags', split=True, gap=.1, inner=\"quart\")"
   ]
  },
  {
   "cell_type": "code",
   "execution_count": null,
   "metadata": {},
   "outputs": [],
   "source": [
    "arrays = [tags, sc_tags, co_tags]\n",
    "index = pd.MultiIndex.from_arrays(arrays, names=('tag', 'secondary_tag', 'collapsed_tag'))\n",
    "df = pd.DataFrame({'distance': D}, index=index)\n",
    "md_sc = df.groupby(level='secondary_tag').mean()['distance'].values\n",
    "md_t = df.groupby(level='tag').mean()['distance'].values\n",
    "md_co = df.groupby(level='collapsed_tag').mean()['distance'].values"
   ]
  },
  {
   "cell_type": "code",
   "execution_count": null,
   "metadata": {},
   "outputs": [],
   "source": [
    "# t-sne \n",
    "tsne = TSNE(n_components=2, perplexity=perplexity)\n",
    "e1s_tsne = tsne.fit_transform(e1s)  # 400, n\n",
    "e2s_tsne = tsne.fit_transform(e2s)  # 400, n"
   ]
  },
  {
   "cell_type": "code",
   "execution_count": null,
   "metadata": {},
   "outputs": [],
   "source": [
    "# grad cam"
   ]
  }
 ],
 "metadata": {
  "kernelspec": {
   "display_name": "winoground",
   "language": "python",
   "name": "python3"
  },
  "language_info": {
   "name": "python",
   "version": "3.9.18"
  },
  "orig_nbformat": 4
 },
 "nbformat": 4,
 "nbformat_minor": 2
}
